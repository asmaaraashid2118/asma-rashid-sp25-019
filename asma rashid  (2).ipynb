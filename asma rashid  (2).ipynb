{
 "cells": [
  {
   "cell_type": "code",
   "execution_count": null,
   "id": "f71fb28b-ccc1-4003-82dd-e150def7c468",
   "metadata": {},
   "outputs": [],
   "source": [
    "Question No 1"
   ]
  },
  {
   "cell_type": "code",
   "execution_count": 3,
   "id": "0fe9c589-d95f-42e8-923e-f841e9be387b",
   "metadata": {},
   "outputs": [
    {
     "name": "stdout",
     "output_type": "stream",
     "text": [
      "10\n",
      "9\n",
      "8\n",
      "7\n",
      "6\n",
      "5\n",
      "4\n",
      "3\n",
      "2\n",
      "1\n",
      "loop completed\n"
     ]
    }
   ],
   "source": [
    "count=10\n",
    "\n",
    "while count>=1:\n",
    "    print(count)\n",
    "    count-=1\n",
    "\n",
    "\n",
    "print(\"loop completed\")"
   ]
  },
  {
   "cell_type": "code",
   "execution_count": 5,
   "id": "e5c3f686-4e35-4f1c-bd18-2f604d2b1c8b",
   "metadata": {},
   "outputs": [],
   "source": [
    "#question 2"
   ]
  },
  {
   "cell_type": "code",
   "execution_count": 9,
   "id": "ed745696-6f66-4df7-8a59-6ae95ac6e3cf",
   "metadata": {},
   "outputs": [
    {
     "name": "stdout",
     "output_type": "stream",
     "text": [
      "2\n",
      "4\n",
      "6\n",
      "8\n",
      "10\n",
      "12\n",
      "14\n",
      "16\n",
      "18\n",
      "20\n"
     ]
    }
   ],
   "source": [
    "count=2\n",
    "while count<=20:\n",
    "    print (count)\n",
    "    count+=2\n"
   ]
  },
  {
   "cell_type": "code",
   "execution_count": 11,
   "id": "0467c4fe-b4bd-4f6d-8114-504d9f7a1739",
   "metadata": {},
   "outputs": [],
   "source": [
    "#question 3"
   ]
  },
  {
   "cell_type": "code",
   "execution_count": 22,
   "id": "b2294708-7046-4bf4-bfd7-bf1dac114a74",
   "metadata": {},
   "outputs": [
    {
     "name": "stdin",
     "output_type": "stream",
     "text": [
      "Enter a number 1\n"
     ]
    },
    {
     "name": "stdout",
     "output_type": "stream",
     "text": [
      "the sum of the first natural\n"
     ]
    }
   ],
   "source": [
    "n = int(input(\"Enter a number\"))\n",
    "sum=0\n",
    "i=1\n",
    "\n",
    "\n",
    "while i<=n:\n",
    "    sum+=1\n",
    "    i += 1\n",
    "print(\"the sum of the first natural\")"
   ]
  },
  {
   "cell_type": "code",
   "execution_count": 49,
   "id": "6ec7cabd-7c56-4902-92d5-ed15511d7b81",
   "metadata": {},
   "outputs": [],
   "source": [
    "#question 4"
   ]
  },
  {
   "cell_type": "code",
   "execution_count": 34,
   "id": "ac860791-2a01-4fc8-bfb0-ce72a0d6134c",
   "metadata": {},
   "outputs": [
    {
     "name": "stdin",
     "output_type": "stream",
     "text": [
      "positive number: 1\n"
     ]
    },
    {
     "name": "stdout",
     "output_type": "stream",
     "text": [
      "thank you\n"
     ]
    }
   ],
   "source": [
    "n=int(input('positive number:'))\n",
    "while n <-0:\n",
    "    print('not a positive number.try again')\n",
    "    n=int(input('enter a positive number:'))\n",
    "print('thank you')"
   ]
  },
  {
   "cell_type": "code",
   "execution_count": 51,
   "id": "fb94ee8a-c7fc-47d8-baeb-efaf92fa6ad9",
   "metadata": {},
   "outputs": [],
   "source": [
    "#question 5"
   ]
  },
  {
   "cell_type": "code",
   "execution_count": 30,
   "id": "65a132c2-7dd5-4062-933c-24079d22b157",
   "metadata": {},
   "outputs": [
    {
     "name": "stdout",
     "output_type": "stream",
     "text": [
      "d\n",
      "a\n",
      "t\n",
      "a\n"
     ]
    }
   ],
   "source": [
    "s=\"data\"\n",
    "i=0\n",
    "\n",
    "while i < len (s):\n",
    "    print(s[i])\n",
    "    i += 1 "
   ]
  },
  {
   "cell_type": "code",
   "execution_count": 53,
   "id": "475038e1-8e02-4996-aff5-4f2f4092ccd8",
   "metadata": {},
   "outputs": [],
   "source": [
    "#question 6"
   ]
  },
  {
   "cell_type": "code",
   "execution_count": null,
   "id": "dfda08b4-65a8-4300-843e-fafbf75b4545",
   "metadata": {},
   "outputs": [
    {
     "name": "stdin",
     "output_type": "stream",
     "text": [
      "Guess the secret number:  3\n"
     ]
    },
    {
     "name": "stdout",
     "output_type": "stream",
     "text": [
      "Too low!\n"
     ]
    },
    {
     "name": "stdin",
     "output_type": "stream",
     "text": [
      "Guess the secret number:  3\n"
     ]
    },
    {
     "name": "stdout",
     "output_type": "stream",
     "text": [
      "Too low!\n"
     ]
    },
    {
     "name": "stdin",
     "output_type": "stream",
     "text": [
      "Guess the secret number:  8\n"
     ]
    },
    {
     "name": "stdout",
     "output_type": "stream",
     "text": [
      "Too high!\n"
     ]
    }
   ],
   "source": [
    "secret_number = 7\n",
    "guess = None\n",
    "\n",
    "while guess != secret_number:\n",
    "    guess = int(input(\"Guess the secret number: \"))\n",
    "    \n",
    "    if guess < secret_number:\n",
    "        print(\"Too low!\")\n",
    "    elif guess > secret_number:\n",
    "        print(\"Too high!\")\n",
    "    else:\n",
    "        print(\"Congratulations! You guessed the correct number.\")"
   ]
  },
  {
   "cell_type": "code",
   "execution_count": 1,
   "id": "2c808fd7-54e7-498f-96cd-dc1d69abd38d",
   "metadata": {},
   "outputs": [
    {
     "name": "stdin",
     "output_type": "stream",
     "text": [
      "Enter the password:  1\n"
     ]
    },
    {
     "name": "stdout",
     "output_type": "stream",
     "text": [
      "Incorrect password. Try again.\n"
     ]
    },
    {
     "name": "stdin",
     "output_type": "stream",
     "text": [
      "Enter the password:  4\n"
     ]
    },
    {
     "name": "stdout",
     "output_type": "stream",
     "text": [
      "Incorrect password. Try again.\n"
     ]
    },
    {
     "name": "stdin",
     "output_type": "stream",
     "text": [
      "Enter the password:  4\n"
     ]
    },
    {
     "name": "stdout",
     "output_type": "stream",
     "text": [
      "Incorrect password. Try again.\n"
     ]
    },
    {
     "name": "stdin",
     "output_type": "stream",
     "text": [
      "Enter the password:  5\n"
     ]
    },
    {
     "name": "stdout",
     "output_type": "stream",
     "text": [
      "Incorrect password. Try again.\n"
     ]
    },
    {
     "name": "stdin",
     "output_type": "stream",
     "text": [
      "Enter the password:  1\n"
     ]
    },
    {
     "name": "stdout",
     "output_type": "stream",
     "text": [
      "Incorrect password. Try again.\n"
     ]
    },
    {
     "name": "stdin",
     "output_type": "stream",
     "text": [
      "Enter the password:  analtics123\n"
     ]
    },
    {
     "name": "stdout",
     "output_type": "stream",
     "text": [
      "Incorrect password. Try again.\n"
     ]
    },
    {
     "name": "stdin",
     "output_type": "stream",
     "text": [
      "Enter the password:  analytics123\n"
     ]
    },
    {
     "name": "stdout",
     "output_type": "stream",
     "text": [
      "Access granted.\n"
     ]
    }
   ],
   "source": [
    "correct_password = \"analytics123\"\n",
    "entered_password = \"\"\n",
    "\n",
    "while entered_password != correct_password:\n",
    "    entered_password = input(\"Enter the password: \")\n",
    "    if entered_password != correct_password:\n",
    "        print(\"Incorrect password. Try again.\")\n",
    "\n",
    "print(\"Access granted.\")"
   ]
  },
  {
   "cell_type": "code",
   "execution_count": null,
   "id": "36a4708c-ca4a-4226-b880-f091d5e2edc0",
   "metadata": {},
   "outputs": [],
   "source": []
  },
  {
   "cell_type": "code",
   "execution_count": null,
   "id": "16567c17-8da2-461b-8cde-1fca354a1a20",
   "metadata": {},
   "outputs": [],
   "source": []
  }
 ],
 "metadata": {
  "kernelspec": {
   "display_name": "Python 3 (ipykernel)",
   "language": "python",
   "name": "python3"
  },
  "language_info": {
   "codemirror_mode": {
    "name": "ipython",
    "version": 3
   },
   "file_extension": ".py",
   "mimetype": "text/x-python",
   "name": "python",
   "nbconvert_exporter": "python",
   "pygments_lexer": "ipython3",
   "version": "3.12.4"
  }
 },
 "nbformat": 4,
 "nbformat_minor": 5
}
